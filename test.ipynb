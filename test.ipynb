{
  "cells": [
    {
      "cell_type": "code",
      "execution_count": null,
      "metadata": {
        "id": "-iMZEkkifIU-"
      },
      "outputs": [],
      "source": [
        "import os\n",
        "import random\n",
        "import numpy as np\n",
        "import json\n",
        "\n",
        "from PIL import Image, ImageDraw, ImageFont\n",
        "import cv2\n",
        "\n",
        "def rotate(origin, point, angle):\n",
        "    \"\"\"Rotate point by an angle w.r.t. origin\n",
        "\n",
        "    Args:\n",
        "        origin : (x, y) coordinates of the origin\n",
        "        point : (x, y) coordinates of the point to rotate\n",
        "        angle : anti-clockwise angle in radians to rotate \n",
        "\n",
        "    Returns:\n",
        "        rotated point: (x, y) coordinates of the rotated point\n",
        "    \"\"\"\n",
        "    origin = np.array(origin)\n",
        "    point = np.array(point)\n",
        "    c, s = np.cos(angle), np.sin(angle)\n",
        "\n",
        "    R = np.array([\n",
        "      [c, s], \n",
        "      [-s,  c]\n",
        "    ])\n",
        "    O = origin + R @ (point - origin)\n",
        "    return O.tolist()\n",
        "\n",
        "def blend_images(background_image, text_image):\n",
        "    array = np.array(text_image)\n",
        "    white = (255, 255, 255)\n",
        "    ycoords, xcoords = np.where((array == white).all(2))\n",
        "    for x, y in zip(xcoords, ycoords):\n",
        "        background_image.putpixel((x, y), white)\n",
        "\n",
        "def generate_synthetic_dataset(\n",
        "        output_directory: str=\"./dataset\", \n",
        "        num_images: int=100,\n",
        "        image_width=200, image_height=50,\n",
        "        characters=\"ABCDEFGHIJKLMNOPQRSTUVWXYZ0123456789\", \n",
        "        angle_range=(-10, 10),\n",
        "        font_size_range=(20, 30), \n",
        "        font_directory=\"./fonts\",\n",
        "        background_directory=\"./backgrounds\", \n",
        "        num_characters=4, \n",
        "        num_words=4\n",
        "    ):\n",
        "    \"\"\"Generate synthetic rotated OCR dataset at output_directory, by blending with images in background_directory\n",
        "\n",
        "    Args:\n",
        "        output_directory (str): path to store the generated dataset\n",
        "        num_images (int): the number of images to generate\n",
        "        image_width (int): output image width\n",
        "        image_height (int): output image height\n",
        "        characters (str): characters from which each word is sampled\n",
        "        angle_range (tuple): angle (min, max) range \n",
        "        font_size_range (tuple): font size (min, max) range \n",
        "        font_directory (str): font directory containing .ttf \n",
        "        background_directory (str): background directory containing .jpg, .png, etc\n",
        "        num_characters (int): the number of characters for each word (<= len(characters))\n",
        "        num_words (int): the number of words to generate per image \n",
        "    \"\"\"\n",
        "    # Create the output directory if it doesn't exist\n",
        "    os.makedirs(output_directory, exist_ok=True)\n",
        "\n",
        "    # Check if the font directory exists, otherwise use default font\n",
        "    if os.path.exists(font_directory):\n",
        "        fonts = [os.path.join(font_directory, font) for font in os.listdir(font_directory)]\n",
        "    else:\n",
        "        fonts = os.path.join(cv2.__path__[0],'qt','fonts','DejaVuSans.ttf')\n",
        "\n",
        "    # Check if the background directory exists, otherwise use black background\n",
        "    if os.path.exists(background_directory):\n",
        "        backgrounds = [os.path.join(background_directory, bg) for bg in os.listdir(background_directory)]\n",
        "    else:\n",
        "        backgrounds = \"black\"\n",
        "\n",
        "    # Anchor type to be used in PIL Image methods (lt = Coordinates relative to left top)\n",
        "    # https://pillow.readthedocs.io/en/stable/handbook/text-anchors.html#text-anchors\n",
        "    anchor_type = \"lt\"\n",
        "    \n",
        "    for i in range(num_images):\n",
        "        # Randomly select a font and background\n",
        "        font_size = random.randint(*font_size_range)\n",
        "        random_font = random.choice(fonts) if isinstance(fonts, list) else fonts\n",
        "        font = ImageFont.truetype(random_font, font_size)\n",
        "        \n",
        "        \n",
        "        # Randomly pick from the backgrounds folder if any exists, else create black background\n",
        "        background = Image.open(random.choice(backgrounds)) \\\n",
        "                          .convert(\"RGB\") \\\n",
        "                          .resize((image_width, image_height)) if isinstance(backgrounds, list) \\\n",
        "                          else Image.new('RGB', (image_width, image_height), backgrounds) \n",
        "        \n",
        "        all_bboxes = []\n",
        "        all_texts = \"\"\n",
        "        for j in range(num_words):\n",
        "            \n",
        "            # Generate black background for the text\n",
        "            text_background = Image.new('RGB', (image_width, image_height), \"black\") \n",
        "            \n",
        "            # Draw object from the choosen background\n",
        "            draw = ImageDraw.Draw(text_background)\n",
        "\n",
        "            # Generate a random string of characters\n",
        "            text = ''.join(random.choices(characters, k=num_characters))\n",
        "\n",
        "            # Calculate the width and height of the textbbox\n",
        "            dims = draw.textbbox(xy=(0, 0), text=text, font=font, anchor=anchor_type)\n",
        "            text_width, text_height = dims[2] - dims[0], dims[3] - dims[1]\n",
        "\n",
        "            # Random left top coordinates of the text \n",
        "            random_x, random_y = random.randint(0, image_width-text_width), random.randint(0, image_height-text_height)\n",
        "            x1, y1, _, _ = draw.textbbox(xy=(random_x, random_y), text=text, font=font, anchor=anchor_type)\n",
        "            \n",
        "            # Character wise textbboxes, which will be rotated w.r.t. the whole bbox center\n",
        "            # Use ((x1, y1), (x1, y2), (x2, y1), (x2, y2)) representation for each vertex\n",
        "            bboxes = []\n",
        "            \n",
        "            # x coord of the current character (y coord is the same)\n",
        "            x_cursor = x1\n",
        "            for ch in text:\n",
        "                xmin, ymin, xmax, ymax = draw.textbbox(xy=(x_cursor, y1), text=ch, font=font, anchor=anchor_type)\n",
        "                vertices = [[xmin, ymin], [xmin, ymax], [xmax, ymax], [xmax, ymin]]\n",
        "                bboxes.append(vertices)\n",
        "                # move the cursor forward\n",
        "                x_cursor += xmax-xmin\n",
        "            \n",
        "            # Center of the image to rotate each word's coordinates\n",
        "            # Float coordinates used here to be precise \n",
        "            center_x, center_y = image_width / 2, image_height / 2\n",
        "\n",
        "            # Draw the text on the background\n",
        "            draw.text(xy=(x1, y1), text=text, font=font, fill=(255, 255, 255), anchor=anchor_type)\n",
        "\n",
        "            # Rotate the image with text by a random angle\n",
        "            # expand=False keeps the resolution same\n",
        "            angle_deg = random.uniform(*angle_range)\n",
        "            rotated_background = text_background.rotate(angle_deg, expand=False)\n",
        "\n",
        "            # Paste text onto background (in-place)\n",
        "            blend_images(background, rotated_background)\n",
        "            # background = Image.blend(background, rotated_background, 0)\n",
        "\n",
        "            # Convert the angle to radians\n",
        "            angle_rad = np.radians(angle_deg)\n",
        "\n",
        "            # Calculate the rotated coordinates\n",
        "            for j in range(len(bboxes)):\n",
        "                bboxes[j] = list(map(lambda xy: rotate(origin=(center_x, center_y), point=xy, angle=angle_rad), bboxes[j]))\n",
        "            \n",
        "            all_bboxes.extend(bboxes)\n",
        "            all_texts = all_texts + text\n",
        "            \n",
        "        # Path to which the image is saved\n",
        "        image_filename = f\"{i:06d}.png\"\n",
        "        image_path = os.path.join(output_directory, image_filename)\n",
        "        background.save(image_path)\n",
        "\n",
        "        # Save the bounding box coordinates to a JSON file\n",
        "        json_data = {\n",
        "            \"filename\": image_filename,\n",
        "            \"bboxes\": all_bboxes,\n",
        "            \"text\": list(all_texts)\n",
        "        }\n",
        "        json_filename = f\"{i:06d}.json\"\n",
        "        json_path = os.path.join(output_directory, json_filename)\n",
        "        with open(json_path, 'w') as json_file:\n",
        "            json.dump(json_data, json_file)\n"
      ]
    },
    {
      "cell_type": "code",
      "execution_count": null,
      "metadata": {
        "id": "EIdkdkhsfIU-"
      },
      "outputs": [],
      "source": [
        "generate_synthetic_dataset(output_directory=\"./synth_dataset\", num_images=10, image_width=400, image_height=400,\n",
        "                               characters=\"ABCDEFGHIJKLMNOPQRSTUVWXYZ0123456789\", angle_range=(-30, 30),\n",
        "                               num_characters=4, font_size_range=(20, 30), font_directory=\"./assets/fonts\",\n",
        "                               background_directory=\"./assets/backgrounds\", num_words=4)"
      ]
    },
    {
      "cell_type": "code",
      "execution_count": null,
      "metadata": {
        "id": "FkJ33C5GfIU_"
      },
      "outputs": [],
      "source": [
        "data_path = \"./dataset\"\n",
        "import glob\n",
        "images = sorted(glob.glob(f\"{data_path}/*.png\"))\n",
        "labels = sorted(glob.glob(f\"{data_path}/*.json\"))"
      ]
    },
    {
      "cell_type": "code",
      "execution_count": null,
      "metadata": {
        "id": "ERsi7w8AfIU_"
      },
      "outputs": [],
      "source": [
        "idx = 3\n",
        "image, label = images[idx], labels[idx]\n",
        "ann = json.load(open(label, \"r\"))\n",
        "image = Image.open(image)"
      ]
    },
    {
      "cell_type": "code",
      "execution_count": null,
      "metadata": {
        "colab": {
          "base_uri": "https://localhost:8080/",
          "height": 417
        },
        "id": "2kck8FNEfIU_",
        "outputId": "362ba817-490c-40fc-c62a-facfc9b5831d"
      },
      "outputs": [
        {
          "data": {
            "image/png": "[encoded data removed]",
            "text/plain": [
              "<PIL.PngImagePlugin.PngImageFile image mode=RGB size=400x400 at 0x7FA402AC80D0>"
            ]
          },
          "execution_count": 40,
          "metadata": {},
          "output_type": "execute_result"
        }
      ],
      "source": [
        "from PIL import ImageDraw\n",
        "\n",
        "\n",
        "draw = ImageDraw.Draw(image)\n",
        "for bbox, label in zip(ann[\"bboxes\"], ann[\"text\"]):\n",
        "    bbox = list(map(tuple, bbox))\n",
        "    draw.polygon(bbox, outline=(0, 0, 255))\n",
        "    draw.text(bbox[1], label, stroke_width=25)\n",
        "\n",
        "image"
      ]
    },
    {
      "cell_type": "code",
      "execution_count": null,
      "metadata": {
        "id": "k2tM06xHfIVP"
      },
      "outputs": [],
      "source": []
    }
  ],
  "metadata": {
    "colab": {
      "provenance": []
    },
    "kernelspec": {
      "display_name": "synth",
      "language": "python",
      "name": "python3"
    },
    "language_info": {
      "codemirror_mode": {
        "name": "ipython",
        "version": 3
      },
      "file_extension": ".py",
      "mimetype": "text/x-python",
      "name": "python",
      "nbconvert_exporter": "python",
      "pygments_lexer": "ipython3",
      "version": "3.10.11"
    },
    "orig_nbformat": 4
  },
  "nbformat": 4,
  "nbformat_minor": 0
}
